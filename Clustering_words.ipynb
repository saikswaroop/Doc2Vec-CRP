{
 "cells": [
  {
   "cell_type": "code",
   "execution_count": 4,
   "metadata": {
    "collapsed": false
   },
   "outputs": [],
   "source": [
    "#Load google vectors through bin file\n",
    "\n",
    "from gensim.models.word2vec import Word2Vec\n",
    "\n",
    "model = Word2Vec.load_word2vec_format('Base/GoogleNews-vectors-negative300.bin', binary=True)\n"
   ]
  },
  {
   "cell_type": "raw",
   "metadata": {
    "collapsed": false,
    "slideshow": {
     "slide_type": "notes"
    }
   },
   "source": [
    "    # replace words from vectors of bin files"
   ]
  },
  {
   "cell_type": "code",
   "execution_count": 119,
   "metadata": {
    "collapsed": false
   },
   "outputs": [
    {
     "name": "stdout",
     "output_type": "stream",
     "text": [
      "doughnut\n",
      "gingerale\n",
      "greenbean\n",
      "soysauce\n",
      "ugli fruit\n"
     ]
    }
   ],
   "source": [
    "import numpy as np\n",
    "\n",
    "with open('Base/food_words.txt', 'rb') as infile:\n",
    "    food_words = infile.readlines()\n",
    "    \n",
    "with open('Base/sports_words.txt', 'rb') as infile:\n",
    "    sport_words = infile.readlines()\n",
    "    \n",
    "with open('Base/weather_words.txt', 'rb') as infile:\n",
    "    weather_words = infile.readlines()\n",
    "    \n",
    "uwords =[]\n",
    "\n",
    "def getWordVecs(words):\n",
    "    vecs = []\n",
    "    for word in words:\n",
    "        word = word.replace(\"\\r\\n\", \"\")\n",
    "        try:\n",
    "            vecs.append(model[word])\n",
    "            uwords.append(word)\n",
    "        except KeyError:\n",
    "            # When we have compound words, the result is the sum of the vectors of each word\n",
    "            try:\n",
    "                word = word.replace('-', ' ')\n",
    "                nword = word.split(' ')\n",
    "                vecs.append(sum(model[nword[0]], model[nword[1]]))\n",
    "                #vecs.append(map(sum, zip(model[nword[0]], model[nword[1]])))\n",
    "                uwords.append(word)\n",
    "            except KeyError:\n",
    "                print word\n",
    "                continue\n",
    "    #print len(vecs)\n",
    "    #vecs = np.concatenate(vecs)\n",
    "    #return vecs\n",
    "    return np.array(vecs, dtype='float') #TSNE expects float type values\n",
    "\n",
    "food_vecs = getWordVecs(food_words)\n",
    "#sports_vecs = getWordVecs(sport_words)\n",
    "#weather_vecs = getWordVecs(weather_words)"
   ]
  },
  {
   "cell_type": "code",
   "execution_count": null,
   "metadata": {
    "collapsed": false
   },
   "outputs": [],
   "source": [
    "#Just for using less memory (Won't need load bin file)\n",
    "#write whole vectors in a text file\n",
    "with open('all_vectors_out.txt', 'w') as f:\n",
    "    for row in food_vecs:\n",
    "        f.write(str(row))\n",
    "        f.write('\\n')\n",
    "    for row in sports_vecs:\n",
    "        f.write(str(row))\n",
    "        f.write('\\n')\n",
    "    for row in weather_vecs:\n",
    "        f.write(str(row))\n",
    "        f.write('\\n')        \n",
    "    f.close()\n",
    "    \n",
    "#Load text file\n",
    "vectors = []\n",
    "with open('all_vectors_out.txt', 'r') as a:\n",
    "    all_vectors = [float(x) for x in a.readlines()]"
   ]
  },
  {
   "cell_type": "raw",
   "metadata": {
    "collapsed": false
   },
   "source": [
    "# Clustering vectors based on your similarity"
   ]
  },
  {
   "cell_type": "code",
   "execution_count": 161,
   "metadata": {
    "collapsed": false
   },
   "outputs": [],
   "source": [
    "from scipy.spatial.distance import *\n",
    "import math\n",
    "\n",
    "def WriteResult(Vector, Name_toExport):\n",
    "    CRP_Words = CRP(Vector)\n",
    "    with open(Name_toExport, 'w') as cluw:\n",
    "        for w in CRP_Words:\n",
    "            cluw.write(str(w))\n",
    "            cluw.write('\\n')\n",
    "            cluw.write('\\n')\n",
    "        cluw.close()\n",
    "\n",
    "def CRP(vector):    \n",
    "    #Duas chaves tranforma em matriz 1X1\n",
    "    clusterVec = [list(vector[0])]         # tracks sum of vectors in a cluster\n",
    "    clusterIdx = [[0]]         # array of index arrays. e.g. [[1, 3, 5], [2, 4, 6]]\n",
    "    ncluster = 0\n",
    "    # probablity to create a new cluster vectors\n",
    "    # is not strongly \"similar\" to any existing table\n",
    "    pnew = 1.0/ (1+ ncluster) \n",
    "    N = len(vector)\n",
    "    rands = np.random.rand(N)         # N rand variables sampled from U(0, 1)\n",
    " \n",
    "    for i in range(N):\n",
    "        maxSim = -1\n",
    "        maxIdx = 0\n",
    "        #List transforma em matriz normal\n",
    "        v = list(vector[i])\n",
    "        for j in range(ncluster):\n",
    "            sim = 1- cosine(clusterVec[j], v)\n",
    "            if math.isnan(sim):\n",
    "                sim = 0\n",
    "            if sim > maxSim:\n",
    "                maxIdx = j\n",
    "                maxSim = sim\n",
    "        if maxSim < 2*pnew:                \n",
    "            if rands[i] < pnew:\n",
    "                clusterVec.append([])\n",
    "                clusterIdx.append([])\n",
    "                clusterVec[ncluster] = v\n",
    "                clusterIdx[ncluster] = [i]\n",
    "                ncluster += 1\n",
    "                pnew = 1.0 / (1 + ncluster)\n",
    "            else:\n",
    "                clusterVec[maxIdx] = sum(clusterVec[maxIdx], v)\n",
    "                #clusterVec[maxIdx] = map(sum, zip(clusterVec[maxIdx], v))\n",
    "                clusterIdx[maxIdx].append(i)\n",
    "\n",
    "        else:\n",
    "            clusterVec[maxIdx] = sum(clusterVec[maxIdx], v)\n",
    "            #clusterVec[maxIdx] = map(sum, zip(clusterVec[maxIdx], v))\n",
    "            clusterIdx[maxIdx].append(i)\n",
    "          \n",
    "    ClusterWords = [[uwords[i] for i in c] for c in clusterIdx]\n",
    "    return ClusterWords\n"
   ]
  },
  {
   "cell_type": "code",
   "execution_count": 160,
   "metadata": {
    "collapsed": false
   },
   "outputs": [],
   "source": [
    "WriteResult(food_vecs, 'Cluster_foodVectors')"
   ]
  },
  {
   "cell_type": "code",
   "execution_count": 152,
   "metadata": {
    "collapsed": false
   },
   "outputs": [],
   "source": []
  },
  {
   "cell_type": "code",
   "execution_count": null,
   "metadata": {
    "collapsed": true
   },
   "outputs": [],
   "source": []
  }
 ],
 "metadata": {
  "kernelspec": {
   "display_name": "Python 2",
   "language": "python",
   "name": "python2"
  },
  "language_info": {
   "codemirror_mode": {
    "name": "ipython",
    "version": 2
   },
   "file_extension": ".py",
   "mimetype": "text/x-python",
   "name": "python",
   "nbconvert_exporter": "python",
   "pygments_lexer": "ipython2",
   "version": "2.7.10"
  }
 },
 "nbformat": 4,
 "nbformat_minor": 0
}
