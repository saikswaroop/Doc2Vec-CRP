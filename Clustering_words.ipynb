{
 "cells": [
  {
   "cell_type": "code",
   "execution_count": 1,
   "metadata": {
    "collapsed": false
   },
   "outputs": [],
   "source": [
    "from gensim.models.word2vec import Word2Vec\n",
    "\n",
    "model = Word2Vec.load_word2vec_format('Base/GoogleNews-vectors-negative300.bin', binary=True)\n",
    "\n",
    "#how don't archive in memory"
   ]
  },
  {
   "cell_type": "code",
   "execution_count": null,
   "metadata": {
    "collapsed": false
   },
   "outputs": [],
   "source": [
    "model.most_similar(positive=['woman', 'king'], negative=['man'], topn=7)"
   ]
  },
  {
   "cell_type": "code",
   "execution_count": 2,
   "metadata": {
    "collapsed": false
   },
   "outputs": [],
   "source": [
    "import numpy as np\n",
    "\n",
    "with open('Base/food_words.txt', 'r') as infile:\n",
    "    food_words = infile.readlines()\n",
    "    \n",
    "with open('Base/sports_words.txt', 'r') as infile:\n",
    "    sport_words = infile.readlines()\n",
    "    \n",
    "with open('Base/weather_words.txt', 'r') as infile:\n",
    "    weather_words = infile.readlines()\n",
    "    \n",
    "\n",
    "def getWordVecs(words):\n",
    "    vecs = []\n",
    "    for word in words:\n",
    "        word = word.replace('\\n', '')\n",
    "        try:\n",
    "            vecs.append(model[word])\n",
    "        except KeyError:\n",
    "            continue\n",
    "    #vecs = np.concatenate(vecs)         #how do you mean concatenate vectors\n",
    "    return vecs\n",
    "    #return np.array(vecs, dtype='float') #TSNE expects float type values\n",
    "\n",
    "food_vecs = getWordVecs(food_words)\n",
    "sports_vecs = getWordVecs(sport_words)\n",
    "weather_vecs = getWordVecs(weather_words)"
   ]
  },
  {
   "cell_type": "code",
   "execution_count": 3,
   "metadata": {
    "collapsed": false
   },
   "outputs": [
    {
     "data": {
      "text/plain": [
       "1"
      ]
     },
     "execution_count": 3,
     "metadata": {},
     "output_type": "execute_result"
    }
   ],
   "source": [
    "len(food_vecs)"
   ]
  },
  {
   "cell_type": "code",
   "execution_count": null,
   "metadata": {
    "collapsed": false
   },
   "outputs": [],
   "source": [
    "from scipy.spatial.distance import cdist\n",
    "\n",
    "# vecs: an array of real vectors\n",
    "def crp(vecs):\n",
    "    clusterVec = [0]         # tracks sum of vectors in a cluster\n",
    "    clusterIdx = []         # array of index arrays. e.g. [[1, 3, 5], [2, 4, 6]]\n",
    "    ncluster = 0\n",
    "    # probablity to create a new table if new customer\n",
    "    # is not strongly \"similar\" to any existing table\n",
    "    pnew = 1.0/ (1 + ncluster)  \n",
    "    N = len(vecs)\n",
    "    rands = np.random.rand(N)         # N rand variables sampled from U(0, 1)\n",
    " \n",
    "    for i in range(N):\n",
    "        maxSim = 0\n",
    "        maxIdx = 0\n",
    "        v = vecs[i]\n",
    "        for j in range(ncluster):\n",
    "            if len(clusterVec) == 0:\n",
    "                continue\n",
    "            else:\n",
    "                sim = cdist(clusterVec[j], v, 'cosine')\n",
    "            if sim < maxSim:\n",
    "                maxIdx = j\n",
    "                maxSim = sim\n",
    "            if maxSim < pnew:\n",
    "                if rands(i) < pnew:\n",
    "                    clusterVec[ncluster] = v\n",
    "                    clusterIdx[ncluster] = [i]\n",
    "                    ncluster += 1\n",
    "                    pnew = 1.0 / (1 + ncluster)\n",
    "                continue\n",
    "        clusterVec[maxIdx] = clusterVec[maxIdx] + v\n",
    "        print maxIdx\n",
    "        clusterIdx.insert(maxIdx, i)\n",
    " \n",
    "    return clusterIdx"
   ]
  },
  {
   "cell_type": "code",
   "execution_count": null,
   "metadata": {
    "collapsed": false
   },
   "outputs": [],
   "source": [
    "from scipy.spatial.distance import cdist\n",
    "\n",
    "clusterVec = []         # tracks sum of vectors in a cluster\n",
    "clusterIdx = []         # array of index arrays. e.g. [[1, 3, 5], [2, 4, 6]]\n",
    "ncluster = 0\n",
    "# probablity to create a new table if new customer\n",
    "# is not strongly \"similar\" to any existing table\n",
    "pnew = 1.0/ (1 + ncluster)  \n",
    "N = len(food_vecs[0])\n",
    "rands = np.random.rand(N)         # N rand variables sampled from U(0, 1)\n",
    " \n",
    "for i in range(N):\n",
    "    maxSim = 0\n",
    "    maxIdx = 0\n",
    "    #t = np.array([np.mean(food_vecs,axis=0)])\n",
    "    v = food_vecs[i]\n",
    "    for j in range(ncluster):\n",
    "        print v\n",
    "        if len(clusterVec) != 0:\n",
    "            sim = cdist(clusterVec[j], v, 'cosine')\n",
    "            print sim\n",
    "            if sim < maxSim:\n",
    "                maxIdx = j\n",
    "                maxSim = sim\n",
    "                if maxSim < pnew:\n",
    "                    if rands(i) < pnew:\n",
    "                        clusterVec[ncluster] = v\n",
    "                        clusterIdx[ncluster] = [i]\n",
    "                        ncluster += 1\n",
    "                        pnew = 1.0 / (1 + ncluster)\n",
    "                continue\n",
    "        elif len(clusterVec) == 0:\n",
    "                #clusterVec = v\n",
    "                clusterVec = np.array([np.mean(v,axis=0)])\n",
    "                clusterIdx.insert(maxIdx, i)\n",
    "        else:\n",
    "            clusterVec[maxIdx] = clusterVec[maxIdx] + v\n",
    "            clusterVec = np.array([np.mean(clusterVec,axis=0)])\n",
    "            #print maxIdx\n",
    "            clusterIdx.insert(maxIdx, i)"
   ]
  },
  {
   "cell_type": "code",
   "execution_count": null,
   "metadata": {
    "collapsed": false
   },
   "outputs": [],
   "source": [
    "clusterIdx"
   ]
  },
  {
   "cell_type": "code",
   "execution_count": null,
   "metadata": {
    "collapsed": false
   },
   "outputs": [],
   "source": [
    "vec = []\n",
    "vec.append(0.120000)\n",
    "vec.append(0.190000)\n",
    "vec.append(2.220000)\n",
    "teste = crp(food_vecs[0])\n",
    "#teste"
   ]
  },
  {
   "cell_type": "code",
   "execution_count": null,
   "metadata": {
    "collapsed": false
   },
   "outputs": [],
   "source": [
    "vetor = []\n",
    "vetor.append(1)\n",
    "vetor.append(2)\n",
    "#vetor[0] = 3\n",
    "vetor"
   ]
  },
  {
   "cell_type": "code",
   "execution_count": null,
   "metadata": {
    "collapsed": false
   },
   "outputs": [],
   "source": [
    "#vetor = np.cumsum(food_vecs) #how does cumsum make?\n",
    "#either I sum all of them or I sum them apllying PCA\n",
    "\n",
    "m = np.array([np.mean(food_vecs,axis=0), np.mean(sports_vecs,axis=0), np.mean(weather_vecs,axis=0)])\n",
    "\n",
    "#print food_vecs.shape\n",
    "print np.mean(m,axis=0).shape\n",
    "#import gensim\n",
    "#print gensim.__version__"
   ]
  },
  {
   "cell_type": "code",
   "execution_count": null,
   "metadata": {
    "collapsed": false
   },
   "outputs": [],
   "source": []
  },
  {
   "cell_type": "code",
   "execution_count": null,
   "metadata": {
    "collapsed": false
   },
   "outputs": [],
   "source": [
    "from scipy.spatial.distance import cdist\n",
    "\n",
    "#idx = np.argmin(cdist(m,[model['acorn']],'cosine'),axis=0)\n",
    "cdist(m,[model['eat']],'cosine')\n",
    "\n"
   ]
  },
  {
   "cell_type": "code",
   "execution_count": null,
   "metadata": {
    "collapsed": false
   },
   "outputs": [],
   "source": []
  },
  {
   "cell_type": "code",
   "execution_count": null,
   "metadata": {
    "collapsed": false
   },
   "outputs": [],
   "source": []
  },
  {
   "cell_type": "code",
   "execution_count": null,
   "metadata": {
    "collapsed": false
   },
   "outputs": [],
   "source": []
  },
  {
   "cell_type": "code",
   "execution_count": null,
   "metadata": {
    "collapsed": false
   },
   "outputs": [],
   "source": [
    "from sklearn.decomposition import PCA\n",
    "pca = PCA(n_components=1)\n",
    "vetor_res = pca.fit_transform(food_vecs)"
   ]
  },
  {
   "cell_type": "code",
   "execution_count": null,
   "metadata": {
    "collapsed": false
   },
   "outputs": [],
   "source": [
    "vetor_res[0]"
   ]
  },
  {
   "cell_type": "code",
   "execution_count": null,
   "metadata": {
    "collapsed": false
   },
   "outputs": [],
   "source": [
    "from sklearn.manifold import TSNE\n",
    "import matplotlib.pyplot as plt\n",
    "\n",
    "ts = TSNE(2)\n",
    "reduced_vecs = ts.fit_transform(np.concatenate((food_vecs, sports_vecs, weather_vecs)))\n",
    "\n",
    "#color points by word group to see if Word2Vec can separate them\n",
    "for i in range(len(reduced_vecs)):\n",
    "    if i < len(food_vecs):\n",
    "        #food_words colored blue\n",
    "        color = 'b'\n",
    "    elif i >= len(food_vecs) and i < (len(food_vecs) + len(sports_vecs)):\n",
    "        #sports_words colored red\n",
    "        color = 'r'\n",
    "    else:\n",
    "        #weather_words colored green\n",
    "        color = 'g'\n",
    "    plt.plot(reduced_vecs[i,0], reduced_vecs[i,1], marker = 'o', color = color, markersize = 8)\n",
    "    "
   ]
  },
  {
   "cell_type": "code",
   "execution_count": null,
   "metadata": {
    "collapsed": false
   },
   "outputs": [],
   "source": [
    "plt.show()"
   ]
  },
  {
   "cell_type": "code",
   "execution_count": null,
   "metadata": {
    "collapsed": false
   },
   "outputs": [],
   "source": []
  },
  {
   "cell_type": "code",
   "execution_count": null,
   "metadata": {
    "collapsed": false
   },
   "outputs": [],
   "source": []
  }
 ],
 "metadata": {
  "kernelspec": {
   "display_name": "Python 2",
   "language": "python",
   "name": "python2"
  },
  "language_info": {
   "codemirror_mode": {
    "name": "ipython",
    "version": 2
   },
   "file_extension": ".py",
   "mimetype": "text/x-python",
   "name": "python",
   "nbconvert_exporter": "python",
   "pygments_lexer": "ipython2",
   "version": "2.7.10"
  }
 },
 "nbformat": 4,
 "nbformat_minor": 0
}
