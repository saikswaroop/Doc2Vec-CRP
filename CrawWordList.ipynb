{
 "cells": [
  {
   "cell_type": "code",
   "execution_count": null,
   "metadata": {
    "collapsed": false
   },
   "outputs": [],
   "source": [
    "from bs4 import BeautifulSoup\n",
    "import requests\n",
    "import re\n",
    "\n",
    "def write(arg):\n",
    "    dados = craw()\n",
    "    with open(arg, 'w') as w:\n",
    "        while len(dados) > 0:\n",
    "            for t in dados.pop():\n",
    "                word = t.encode('utf-8')\n",
    "                if len(word) > 2 and not word.endswith('.'):\n",
    "                    w.write(word)\n",
    "                    w.write('\\n')\n",
    "        w.close\n",
    "    #return dados\n",
    "\n",
    "def craw():\n",
    "    url = 'http://www.enchantedlearning.com/wordlist/%(q)s.html'\n",
    "\n",
    "    busca = {\n",
    "        'q': raw_input('>> Buscar: '),\n",
    "    }\n",
    "\n",
    "    r = requests.get(url % busca)\n",
    "    soup = BeautifulSoup(r.text)\n",
    "\n",
    "    data = []\n",
    "    for b in soup.findAll('body'):    \n",
    "        for p in b.findAll('table', {'cellpadding':'2'}):\n",
    "            if p.find(size=\"+0\"):\n",
    "                #regex = re.compile(r'<[^<]*?>')\n",
    "                #words = regex.sub('', str(p))\n",
    "                #print '\\n' + words\n",
    "                data.append(p.text.split('\\n'))\n",
    "    return data\n"
   ]
  }
 ],
 "metadata": {
  "kernelspec": {
   "display_name": "Python 2",
   "language": "python",
   "name": "python2"
  },
  "language_info": {
   "codemirror_mode": {
    "name": "ipython",
    "version": 2
   },
   "file_extension": ".py",
   "mimetype": "text/x-python",
   "name": "python",
   "nbconvert_exporter": "python",
   "pygments_lexer": "ipython2",
   "version": "2.7.10"
  }
 },
 "nbformat": 4,
 "nbformat_minor": 0
}
